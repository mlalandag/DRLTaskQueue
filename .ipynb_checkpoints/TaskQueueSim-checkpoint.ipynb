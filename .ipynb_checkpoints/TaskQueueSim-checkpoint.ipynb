{
 "cells": [
  {
   "cell_type": "code",
   "execution_count": 12,
   "metadata": {},
   "outputs": [],
   "source": [
    "import threading\n",
    "import time\n",
    "import random\n",
    "import collections\n",
    "import logging\n",
    "\n",
    "logging.basicConfig(\n",
    "    level=logging.DEBUG,\n",
    "    format='(%(threadName)-10s) %(message)s',\n",
    ")"
   ]
  },
  {
   "cell_type": "code",
   "execution_count": 13,
   "metadata": {},
   "outputs": [],
   "source": [
    "class WorkerThread(threading.Thread):\n",
    "    \n",
    "    def __init__(self, task, **kwargs):\n",
    "        super(WorkerThread, self).__init__(**kwargs)\n",
    "        self.task   = task\n",
    "\n",
    "    def run(self):\n",
    "        logging.debug(\"starting %s\" % (self.task.file))\n",
    "        self.task.run()\n",
    "        logging.debug(\"done %s\" % (self.task.file))\n",
    "        "
   ]
  },
  {
   "cell_type": "code",
   "execution_count": 14,
   "metadata": {},
   "outputs": [],
   "source": [
    "class Worker():\n",
    "    \n",
    "    def __init__(self):\n",
    "        self.thr    = None\n",
    "\n",
    "    def run_task(self, task):    \n",
    "        if self.thr != None and self.thr.is_alive():\n",
    "            self.thr.join()\n",
    "        self.thr  = WorkerThread(task)\n",
    "        self.thr.start()\n",
    "        logging.debug(\"%s Launched\" % (task.file))\n",
    "            \n",
    "    def is_running(self):\n",
    "        if self.thr == None:\n",
    "            return False\n",
    "        else:\n",
    "            return self.thr.is_alive()"
   ]
  },
  {
   "cell_type": "code",
   "execution_count": 15,
   "metadata": {},
   "outputs": [],
   "source": [
    "class Task():\n",
    "    \n",
    "    def __init__(self, file):\n",
    "        self.file = file\n",
    "    \n",
    "    def run(self):\n",
    "        time.sleep(random.random()*100)\n",
    "        "
   ]
  },
  {
   "cell_type": "code",
   "execution_count": 79,
   "metadata": {},
   "outputs": [
    {
     "name": "stderr",
     "output_type": "stream",
     "text": [
      "(Thread-30 ) starting Fichero 1\n",
      "(MainThread) Fichero 1 Launched\n"
     ]
    },
    {
     "data": {
      "text/plain": [
       "True"
      ]
     },
     "execution_count": 79,
     "metadata": {},
     "output_type": "execute_result"
    }
   ],
   "source": [
    "myTask = Task(\"Fichero 1\")\n",
    "wrk1 = Worker()\n",
    "wrk1.run_task(myTask)\n",
    "wrk1.is_running()"
   ]
  },
  {
   "cell_type": "code",
   "execution_count": 93,
   "metadata": {
    "scrolled": true
   },
   "outputs": [
    {
     "data": {
      "text/plain": [
       "False"
      ]
     },
     "execution_count": 93,
     "metadata": {},
     "output_type": "execute_result"
    }
   ],
   "source": [
    "wrk1.is_running()"
   ]
  },
  {
   "cell_type": "code",
   "execution_count": 16,
   "metadata": {},
   "outputs": [],
   "source": [
    "class TaskQueue():\n",
    "    \n",
    "    def __init__(self):\n",
    "        self.number_of_tasks = 0\n",
    "        self.queue           = collections.deque([]) \n",
    "        \n",
    "    def add_task(self, task):\n",
    "        self.number_of_tasks += 1\n",
    "        self.queue.append(task)\n",
    "        \n",
    "    def take_task(self):\n",
    "        if len(self.queue) > 0:\n",
    "            self.number_of_tasks -= 1\n",
    "            return self.queue.popleft()\n",
    "        \n",
    "    def get_num_tasks(self):\n",
    "        return self.number_of_tasks\n",
    "    "
   ]
  },
  {
   "cell_type": "code",
   "execution_count": 95,
   "metadata": {},
   "outputs": [
    {
     "name": "stdout",
     "output_type": "stream",
     "text": [
      "Number of Tasks = 0\n",
      "Number of Tasks = 1\n",
      "Number of Tasks = 2\n",
      "Number of Tasks = 1\n"
     ]
    }
   ],
   "source": [
    "myTaskQueue = TaskQueue()\n",
    "print(\"Number of Tasks = {}\".format(myTaskQueue.get_num_tasks()))\n",
    "myTaskQueue.add_task(myTask)\n",
    "print(\"Number of Tasks = {}\".format(myTaskQueue.get_num_tasks()))\n",
    "myTaskQueue.add_task(myTask)\n",
    "print(\"Number of Tasks = {}\".format(myTaskQueue.get_num_tasks()))\n",
    "myTaskQueue.take_task()\n",
    "print(\"Number of Tasks = {}\".format(myTaskQueue.get_num_tasks()))"
   ]
  },
  {
   "cell_type": "code",
   "execution_count": 27,
   "metadata": {},
   "outputs": [],
   "source": [
    "class WorkerPool():\n",
    "    \n",
    "    def __init__(self, max_workers):\n",
    "        self.pool = []\n",
    "        self.number_of_workers = 0\n",
    "        self.max_workers = max_workers\n",
    "        \n",
    "    def add_worker(self, worker):\n",
    "        if self.number_of_workers < self.max_workers:\n",
    "            self.pool.append(worker)\n",
    "            self.number_of_workers += 1\n",
    "        \n",
    "    def remove_worker(self):\n",
    "        deleted = False\n",
    "        while True:\n",
    "            for wrk in self.pool:\n",
    "                if not wrk.is_running():\n",
    "                    self.pool.remove(wrk)\n",
    "                    self.number_of_workers -= 1\n",
    "                    deleted = True\n",
    "            if deleted:\n",
    "                break\n",
    "        \n",
    "    def get_num_workers(self):\n",
    "        return self.number_of_workers"
   ]
  },
  {
   "cell_type": "code",
   "execution_count": 108,
   "metadata": {},
   "outputs": [
    {
     "name": "stdout",
     "output_type": "stream",
     "text": [
      "Number of Workers = 0\n",
      "Number of Workers = 1\n",
      "Number of Workers = 2\n",
      "Number of Workers = 3\n",
      "Number of Workers = 2\n",
      "Number of Workers = 1\n"
     ]
    }
   ],
   "source": [
    "myWorkerPool = WorkerPool(10)\n",
    "wrk1 = Worker()\n",
    "wrk2 = Worker()\n",
    "wrk3 = Worker()\n",
    "print(\"Number of Workers = {}\".format(myWorkerPool.get_num_workers()))\n",
    "myWorkerPool.add_worker(wrk1)\n",
    "print(\"Number of Workers = {}\".format(myWorkerPool.get_num_workers()))\n",
    "myWorkerPool.add_worker(wrk2)\n",
    "print(\"Number of Workers = {}\".format(myWorkerPool.get_num_workers()))\n",
    "myWorkerPool.add_worker(wrk3)\n",
    "print(\"Number of Workers = {}\".format(myWorkerPool.get_num_workers()))\n",
    "myWorkerPool.remove_worker()\n",
    "print(\"Number of Workers = {}\".format(myWorkerPool.get_num_workers()))\n",
    "myWorkerPool.remove_worker()\n",
    "print(\"Number of Workers = {}\".format(myWorkerPool.get_num_workers()))"
   ]
  },
  {
   "cell_type": "markdown",
   "metadata": {},
   "source": [
    "State vector and Reward system\n",
    "\n",
    "We feed the state vector to our AI agent and agent choose an action based on that state. The state vector should contain valuable information. The goodness of the action taken by an agent depends on how informative the state vector is.\n",
    "\n",
    "the state vector contains the following information.\n",
    "\n",
    "Number of tasks in Queue\n",
    "Number of Workers\n",
    "Average time of task processing?\n",
    "\n",
    "\n",
    "Following is the reward system:\n",
    "\n",
    "Give a reward of +3 if the number of tasks in queue decreases\n",
    "Give a reward of -3 if the number of tasks in queue increases\n",
    "Give a reward of -0.1 each time we add a new Worker to the pool.\n",
    "Give a reward of +0.1 each time we remove a Worker from the pool.\n",
    "Give a reward of +3 if the average processing time decreases\n",
    "Give a reward of -3 if the average processing time increases\n",
    "\n",
    "We also have to implement an action space. The agent will choose one of the actions from the action space and send it to the environment. Following is the action space\n",
    "\n",
    "\n",
    "0 - Do nothing.\n",
    "1 - Add Worker to the pool\n",
    "2 - Remove Worker from the pool\n",
    "\n",
    "The agent will send one of these numbers to the environment, and the environment performs the action corresponding to that numbers."
   ]
  },
  {
   "cell_type": "code",
   "execution_count": 24,
   "metadata": {},
   "outputs": [],
   "source": [
    "class Environment():\n",
    "    \n",
    "    def __init__(self, worker_pool, task_queue):\n",
    "        self.worker_pool    = worker_pool\n",
    "        self.task_queue     = task_queue\n",
    "        self.avg_time       = 0\n",
    "        \n",
    "    \n",
    "    def step(self, action, past_num_tasks):\n",
    "\n",
    "        reward, done = 0, 0\n",
    "\n",
    "        if action == 0:         # if action is 0, check status and give reward\n",
    "            if self.task_queue.get_num_tasks() > past_num_tasks:\n",
    "                reward -= .3        # reward of -0.3\n",
    "            else:\n",
    "                reward += .3\n",
    "    \n",
    "        if action == 1:         # if action is 1, add Worker to the Pool\n",
    "            wrk = Worker()\n",
    "            self.worker_pool.add_worker(wrk)\n",
    "            reward -= .1        # reward of -0.1\n",
    "\n",
    "        if action == 2:         # if action is 2, remove Worker from the Pool \n",
    "            self.worker_pool.remove_worker()\n",
    "            reward += .1        # reward of -0.1\n",
    "\n",
    "\n",
    "        # creating the state vector\n",
    "        state = [self.worker_pool.get_num_workers(), \n",
    "                 self.task_queue.get_num_tasks(), \n",
    "                 self.avg_time]\n",
    "\n",
    "        return reward, state, done\n"
   ]
  },
  {
   "cell_type": "code",
   "execution_count": 33,
   "metadata": {},
   "outputs": [
    {
     "name": "stdout",
     "output_type": "stream",
     "text": [
      "reward, state, done = 0.1, [2, 0, 0], 0\n",
      "reward, state, done = 0.3, [2, 0, 0], 0\n",
      "reward, state, done = 0.1, [1, 0, 0], 0\n",
      "reward, state, done = 0.3, [1, 0, 0], 0\n",
      "reward, state, done = 0.1, [0, 0, 0], 0\n",
      "reward, state, done = -0.1, [1, 0, 0], 0\n",
      "reward, state, done = 0.1, [0, 0, 0], 0\n",
      "reward, state, done = 0.3, [0, 0, 0], 0\n",
      "reward, state, done = 0.3, [0, 0, 0], 0\n",
      "reward, state, done = 0.3, [0, 0, 0], 0\n",
      "reward, state, done = 0.3, [0, 0, 0], 0\n",
      "reward, state, done = -0.1, [1, 0, 0], 0\n",
      "reward, state, done = -0.1, [2, 0, 0], 0\n",
      "reward, state, done = 0.1, [1, 0, 0], 0\n",
      "reward, state, done = 0.1, [0, 0, 0], 0\n",
      "reward, state, done = -0.1, [1, 0, 0], 0\n",
      "reward, state, done = -0.1, [2, 0, 0], 0\n",
      "reward, state, done = 0.1, [1, 0, 0], 0\n",
      "reward, state, done = 0.3, [1, 0, 0], 0\n",
      "reward, state, done = -0.1, [2, 0, 0], 0\n",
      "reward, state, done = 0.3, [2, 0, 0], 0\n",
      "reward, state, done = 0.3, [2, 0, 0], 0\n",
      "reward, state, done = 0.3, [2, 0, 0], 0\n",
      "reward, state, done = 0.1, [1, 0, 0], 0\n",
      "reward, state, done = 0.1, [0, 0, 0], 0\n",
      "Press Ctrl-C to terminate while statement\n"
     ]
    }
   ],
   "source": [
    "# Creramos una cola donde ir encolando las tareas\n",
    "myTaskQueue = TaskQueue()\n",
    "# Creamos el Pool con un tope de 10 workers\n",
    "myWorkerPool = WorkerPool(10)\n",
    "\n",
    "# Inicializamos el Pool con 5 workers\n",
    "for i in range(0,5):\n",
    "    wrk = Worker()\n",
    "    myWorkerPool.add_worker(wrk)\n",
    "    \n",
    "myEnvironment = Environment(myWorkerPool, myTaskQueue)\n",
    "\n",
    "\n",
    "try:\n",
    "    past_num_tasks = 0\n",
    "    while True:\n",
    "        # Creamos una tarea cada cierto tiempo\n",
    "        num = random.randint(1, 10000)\n",
    "        if num % 1000 == 0:\n",
    "            task = Task(\"Fichero\")\n",
    "            myEnvironment.task_queue.add_task(task)\n",
    "            \n",
    "        for wrk in myEnvironment.worker_pool.pool:\n",
    "            if not wrk.is_running():\n",
    "                if myEnvironment.task_queue.get_num_tasks() > 0:\n",
    "                    wrk.run_task(myEnvironment.task_queue.take_task())\n",
    "\n",
    "        #print(\"Number of Tasks   = {}\".format(myEnvironment.task_queue.get_num_tasks()))\n",
    "        #print(\"Number of Workers = {}\".format(myEnvironment.worker_pool.get_num_workers()))\n",
    "        \n",
    "        # Comenzamos con un agente que seleccione las acciones al azar\n",
    "        action = random.choice([0,1,2])\n",
    "        reward, state, done = myEnvironment.step(action, past_num_tasks)\n",
    "        print(\"reward, state, done = {}, {}, {}\".format(reward, state, done))        \n",
    "\n",
    "\n",
    "\n",
    "except KeyboardInterrupt:\n",
    "    print(\"Press Ctrl-C to terminate while statement\")\n",
    "    pass\n"
   ]
  },
  {
   "cell_type": "markdown",
   "metadata": {},
   "source": [
    "https://stackoverflow.com/questions/12868956/python-using-threads-or-a-queue-to-iterate-over-a-for-loop-that-calls-a-functi\n",
    "https://towardsdatascience.com/create-your-own-reinforcement-learning-environment-beb12f4151ef"
   ]
  },
  {
   "cell_type": "code",
   "execution_count": null,
   "metadata": {},
   "outputs": [],
   "source": []
  }
 ],
 "metadata": {
  "kernelspec": {
   "display_name": "Python 3",
   "language": "python",
   "name": "python3"
  },
  "language_info": {
   "codemirror_mode": {
    "name": "ipython",
    "version": 3
   },
   "file_extension": ".py",
   "mimetype": "text/x-python",
   "name": "python",
   "nbconvert_exporter": "python",
   "pygments_lexer": "ipython3",
   "version": "3.8.5"
  }
 },
 "nbformat": 4,
 "nbformat_minor": 4
}
